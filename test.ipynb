{
 "cells": [
  {
   "cell_type": "code",
   "execution_count": 1,
   "id": "41ba3818-aa9f-4152-9939-d0906b720fb5",
   "metadata": {},
   "outputs": [],
   "source": [
    "from dataset import *\n",
    "video_dataset = VideoDataset(UCF101_PATH)"
   ]
  },
  {
   "cell_type": "code",
   "execution_count": 3,
   "id": "1f689337-c671-43bd-ace1-5b3fbc606292",
   "metadata": {},
   "outputs": [],
   "source": [
    "data = video_dataset[0]"
   ]
  },
  {
   "cell_type": "code",
   "execution_count": 6,
   "id": "2ad497f8-309b-40b2-85ff-f47b8d632697",
   "metadata": {},
   "outputs": [
    {
     "data": {
      "text/plain": [
       "13320"
      ]
     },
     "execution_count": 6,
     "metadata": {},
     "output_type": "execute_result"
    }
   ],
   "source": [
    "len(video_dataset)"
   ]
  },
  {
   "cell_type": "code",
   "execution_count": 5,
   "id": "bd49194b-b60d-45ae-b226-501465c51508",
   "metadata": {},
   "outputs": [
    {
     "data": {
      "text/plain": [
       "150528"
      ]
     },
     "execution_count": 5,
     "metadata": {},
     "output_type": "execute_result"
    }
   ],
   "source": []
  }
 ],
 "metadata": {
  "kernelspec": {
   "display_name": "Python 3 (ipykernel)",
   "language": "python",
   "name": "python3"
  },
  "language_info": {
   "codemirror_mode": {
    "name": "ipython",
    "version": 3
   },
   "file_extension": ".py",
   "mimetype": "text/x-python",
   "name": "python",
   "nbconvert_exporter": "python",
   "pygments_lexer": "ipython3",
   "version": "3.10.12"
  }
 },
 "nbformat": 4,
 "nbformat_minor": 5
}
